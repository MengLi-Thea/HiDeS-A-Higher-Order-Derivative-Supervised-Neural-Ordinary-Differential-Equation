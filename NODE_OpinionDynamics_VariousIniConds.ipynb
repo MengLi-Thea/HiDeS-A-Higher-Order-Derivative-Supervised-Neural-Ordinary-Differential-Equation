version https://git-lfs.github.com/spec/v1
oid sha256:b9b5cb56adb6f7fc21aa72e147e5ec6445d96122b863248cdce099f0ede532f3
size 49296461
