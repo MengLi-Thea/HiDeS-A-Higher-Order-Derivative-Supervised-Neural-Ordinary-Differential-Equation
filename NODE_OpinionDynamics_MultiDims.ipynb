version https://git-lfs.github.com/spec/v1
oid sha256:c5389cbc8ce50ba3e6e1d69ba3db90fe2d02609743c67238453e01126211ca15
size 59815870
